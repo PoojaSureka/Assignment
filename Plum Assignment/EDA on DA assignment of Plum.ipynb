{
 "cells": [
  {
   "cell_type": "code",
   "execution_count": 1,
   "metadata": {},
   "outputs": [],
   "source": [
    "import pandas as pd\n",
    "import numpy as np\n",
    "import seaborn as sns\n",
    "import matplotlib.pyplot as plt"
   ]
  },
  {
   "cell_type": "code",
   "execution_count": 2,
   "metadata": {},
   "outputs": [],
   "source": [
    "df = pd.read_csv(\"DA Assignment - Sheet1.csv\")"
   ]
  },
  {
   "cell_type": "code",
   "execution_count": 3,
   "metadata": {},
   "outputs": [
    {
     "data": {
      "text/html": [
       "<div>\n",
       "<style scoped>\n",
       "    .dataframe tbody tr th:only-of-type {\n",
       "        vertical-align: middle;\n",
       "    }\n",
       "\n",
       "    .dataframe tbody tr th {\n",
       "        vertical-align: top;\n",
       "    }\n",
       "\n",
       "    .dataframe thead th {\n",
       "        text-align: right;\n",
       "    }\n",
       "</style>\n",
       "<table border=\"1\" class=\"dataframe\">\n",
       "  <thead>\n",
       "    <tr style=\"text-align: right;\">\n",
       "      <th></th>\n",
       "      <th>Id</th>\n",
       "      <th>Requester id</th>\n",
       "      <th>Group</th>\n",
       "      <th>Status</th>\n",
       "      <th>Priority</th>\n",
       "      <th>Via</th>\n",
       "      <th>Created at</th>\n",
       "      <th>Updated at</th>\n",
       "      <th>Assigned at</th>\n",
       "      <th>Initially assigned at</th>\n",
       "      <th>...</th>\n",
       "      <th>Reopens</th>\n",
       "      <th>Replies</th>\n",
       "      <th>First reply time in minutes within business hours</th>\n",
       "      <th>First resolution time in minutes</th>\n",
       "      <th>First resolution time in minutes within business hours</th>\n",
       "      <th>Full resolution time in minutes</th>\n",
       "      <th>Full resolution time in minutes within business hours</th>\n",
       "      <th>Requester wait time in minutes</th>\n",
       "      <th>Requester wait time in minutes within business hours</th>\n",
       "      <th>Manual Tagging of Categories [list]</th>\n",
       "    </tr>\n",
       "  </thead>\n",
       "  <tbody>\n",
       "    <tr>\n",
       "      <th>0</th>\n",
       "      <td>297732</td>\n",
       "      <td>10300555531549</td>\n",
       "      <td>Support</td>\n",
       "      <td>Solved</td>\n",
       "      <td>Low</td>\n",
       "      <td>Mail</td>\n",
       "      <td>08-04-2023 20:52</td>\n",
       "      <td>14-06-2023 16:30</td>\n",
       "      <td>09-04-2023 10:28</td>\n",
       "      <td>09-04-2023 10:28</td>\n",
       "      <td>...</td>\n",
       "      <td>11</td>\n",
       "      <td>11</td>\n",
       "      <td>173.0</td>\n",
       "      <td>12975.0</td>\n",
       "      <td>6488.0</td>\n",
       "      <td>96218.0</td>\n",
       "      <td>47978.0</td>\n",
       "      <td>17853.0</td>\n",
       "      <td>8516.0</td>\n",
       "      <td>Is my treatment covered (IMTC)</td>\n",
       "    </tr>\n",
       "    <tr>\n",
       "      <th>1</th>\n",
       "      <td>311457</td>\n",
       "      <td>10420228868125</td>\n",
       "      <td>Reimbursement Claims</td>\n",
       "      <td>Closed</td>\n",
       "      <td>Low</td>\n",
       "      <td>Mail</td>\n",
       "      <td>24-04-2023 19:32</td>\n",
       "      <td>15-06-2023 16:37</td>\n",
       "      <td>25-04-2023 10:18</td>\n",
       "      <td>25-04-2023 10:18</td>\n",
       "      <td>...</td>\n",
       "      <td>10</td>\n",
       "      <td>10</td>\n",
       "      <td>1527.0</td>\n",
       "      <td>2984.0</td>\n",
       "      <td>1527.0</td>\n",
       "      <td>45893.0</td>\n",
       "      <td>22853.0</td>\n",
       "      <td>30113.0</td>\n",
       "      <td>15139.0</td>\n",
       "      <td>-</td>\n",
       "    </tr>\n",
       "    <tr>\n",
       "      <th>2</th>\n",
       "      <td>329907</td>\n",
       "      <td>10991633548957</td>\n",
       "      <td>Support</td>\n",
       "      <td>Solved</td>\n",
       "      <td>Low</td>\n",
       "      <td>Mail</td>\n",
       "      <td>16-05-2023 17:43</td>\n",
       "      <td>30-05-2023 14:56</td>\n",
       "      <td>16-05-2023 18:18</td>\n",
       "      <td>16-05-2023 18:18</td>\n",
       "      <td>...</td>\n",
       "      <td>10</td>\n",
       "      <td>11</td>\n",
       "      <td>61.0</td>\n",
       "      <td>1563.0</td>\n",
       "      <td>843.0</td>\n",
       "      <td>19993.0</td>\n",
       "      <td>9913.0</td>\n",
       "      <td>7115.0</td>\n",
       "      <td>3335.0</td>\n",
       "      <td>Claims</td>\n",
       "    </tr>\n",
       "    <tr>\n",
       "      <th>3</th>\n",
       "      <td>301553</td>\n",
       "      <td>10376247288477</td>\n",
       "      <td>Support</td>\n",
       "      <td>Solved</td>\n",
       "      <td>Low</td>\n",
       "      <td>Mail</td>\n",
       "      <td>13-04-2023 11:03</td>\n",
       "      <td>15-06-2023 20:55</td>\n",
       "      <td>13-04-2023 13:04</td>\n",
       "      <td>13-04-2023 13:04</td>\n",
       "      <td>...</td>\n",
       "      <td>9</td>\n",
       "      <td>9</td>\n",
       "      <td>381.0</td>\n",
       "      <td>2888.0</td>\n",
       "      <td>1448.0</td>\n",
       "      <td>91313.0</td>\n",
       "      <td>45953.0</td>\n",
       "      <td>18221.0</td>\n",
       "      <td>9401.0</td>\n",
       "      <td>Claims</td>\n",
       "    </tr>\n",
       "    <tr>\n",
       "      <th>4</th>\n",
       "      <td>310966</td>\n",
       "      <td>7302858920989</td>\n",
       "      <td>Support</td>\n",
       "      <td>Closed</td>\n",
       "      <td>Low</td>\n",
       "      <td>Mail</td>\n",
       "      <td>24-04-2023 13:21</td>\n",
       "      <td>08-06-2023 18:37</td>\n",
       "      <td>27-04-2023 14:48</td>\n",
       "      <td>24-04-2023 13:48</td>\n",
       "      <td>...</td>\n",
       "      <td>9</td>\n",
       "      <td>9</td>\n",
       "      <td>37.0</td>\n",
       "      <td>37.0</td>\n",
       "      <td>37.0</td>\n",
       "      <td>36304.0</td>\n",
       "      <td>17739.0</td>\n",
       "      <td>7427.0</td>\n",
       "      <td>4008.0</td>\n",
       "      <td>Claims</td>\n",
       "    </tr>\n",
       "  </tbody>\n",
       "</table>\n",
       "<p>5 rows × 23 columns</p>\n",
       "</div>"
      ],
      "text/plain": [
       "       Id    Requester id                 Group  Status Priority   Via  \\\n",
       "0  297732  10300555531549               Support  Solved      Low  Mail   \n",
       "1  311457  10420228868125  Reimbursement Claims  Closed      Low  Mail   \n",
       "2  329907  10991633548957               Support  Solved      Low  Mail   \n",
       "3  301553  10376247288477               Support  Solved      Low  Mail   \n",
       "4  310966   7302858920989               Support  Closed      Low  Mail   \n",
       "\n",
       "         Created at        Updated at       Assigned at Initially assigned at  \\\n",
       "0  08-04-2023 20:52  14-06-2023 16:30  09-04-2023 10:28      09-04-2023 10:28   \n",
       "1  24-04-2023 19:32  15-06-2023 16:37  25-04-2023 10:18      25-04-2023 10:18   \n",
       "2  16-05-2023 17:43  30-05-2023 14:56  16-05-2023 18:18      16-05-2023 18:18   \n",
       "3  13-04-2023 11:03  15-06-2023 20:55  13-04-2023 13:04      13-04-2023 13:04   \n",
       "4  24-04-2023 13:21  08-06-2023 18:37  27-04-2023 14:48      24-04-2023 13:48   \n",
       "\n",
       "   ... Reopens  Replies First reply time in minutes within business hours  \\\n",
       "0  ...      11       11                                             173.0   \n",
       "1  ...      10       10                                            1527.0   \n",
       "2  ...      10       11                                              61.0   \n",
       "3  ...       9        9                                             381.0   \n",
       "4  ...       9        9                                              37.0   \n",
       "\n",
       "   First resolution time in minutes  \\\n",
       "0                           12975.0   \n",
       "1                            2984.0   \n",
       "2                            1563.0   \n",
       "3                            2888.0   \n",
       "4                              37.0   \n",
       "\n",
       "   First resolution time in minutes within business hours  \\\n",
       "0                                             6488.0        \n",
       "1                                             1527.0        \n",
       "2                                              843.0        \n",
       "3                                             1448.0        \n",
       "4                                               37.0        \n",
       "\n",
       "   Full resolution time in minutes  \\\n",
       "0                          96218.0   \n",
       "1                          45893.0   \n",
       "2                          19993.0   \n",
       "3                          91313.0   \n",
       "4                          36304.0   \n",
       "\n",
       "   Full resolution time in minutes within business hours  \\\n",
       "0                                            47978.0       \n",
       "1                                            22853.0       \n",
       "2                                             9913.0       \n",
       "3                                            45953.0       \n",
       "4                                            17739.0       \n",
       "\n",
       "   Requester wait time in minutes  \\\n",
       "0                         17853.0   \n",
       "1                         30113.0   \n",
       "2                          7115.0   \n",
       "3                         18221.0   \n",
       "4                          7427.0   \n",
       "\n",
       "   Requester wait time in minutes within business hours  \\\n",
       "0                                             8516.0      \n",
       "1                                            15139.0      \n",
       "2                                             3335.0      \n",
       "3                                             9401.0      \n",
       "4                                             4008.0      \n",
       "\n",
       "   Manual Tagging of Categories [list]  \n",
       "0       Is my treatment covered (IMTC)  \n",
       "1                                    -  \n",
       "2                               Claims  \n",
       "3                               Claims  \n",
       "4                               Claims  \n",
       "\n",
       "[5 rows x 23 columns]"
      ]
     },
     "execution_count": 3,
     "metadata": {},
     "output_type": "execute_result"
    }
   ],
   "source": [
    "df.head()"
   ]
  },
  {
   "cell_type": "code",
   "execution_count": 4,
   "metadata": {},
   "outputs": [
    {
     "data": {
      "text/plain": [
       "Mail                      13081\n",
       "Internal Communication     2028\n",
       "OutBound                   1051\n",
       "Closed Ticket               316\n",
       "Name: Via, dtype: int64"
      ]
     },
     "execution_count": 4,
     "metadata": {},
     "output_type": "execute_result"
    }
   ],
   "source": [
    "df[\"Via\"].value_counts()"
   ]
  },
  {
   "cell_type": "code",
   "execution_count": 5,
   "metadata": {},
   "outputs": [],
   "source": [
    "\n",
    "### created a new dataframe where issues were contacted through mails\n",
    "new_df= df[df[\"Via\"] == \"Mail\"]"
   ]
  },
  {
   "cell_type": "code",
   "execution_count": 6,
   "metadata": {},
   "outputs": [
    {
     "data": {
      "text/plain": [
       "(13081, 23)"
      ]
     },
     "execution_count": 6,
     "metadata": {},
     "output_type": "execute_result"
    }
   ],
   "source": [
    "new_df.shape"
   ]
  },
  {
   "cell_type": "code",
   "execution_count": 7,
   "metadata": {},
   "outputs": [
    {
     "name": "stderr",
     "output_type": "stream",
     "text": [
      "C:\\Users\\psure\\AppData\\Local\\Temp\\ipykernel_17376\\219468538.py:3: SettingWithCopyWarning: \n",
      "A value is trying to be set on a copy of a slice from a DataFrame.\n",
      "Try using .loc[row_indexer,col_indexer] = value instead\n",
      "\n",
      "See the caveats in the documentation: https://pandas.pydata.org/pandas-docs/stable/user_guide/indexing.html#returning-a-view-versus-a-copy\n",
      "  new_df[\"Solved at\"] = pd.to_datetime(new_df[\"Solved at\"], dayfirst=True)\n",
      "C:\\Users\\psure\\AppData\\Local\\Temp\\ipykernel_17376\\219468538.py:4: SettingWithCopyWarning: \n",
      "A value is trying to be set on a copy of a slice from a DataFrame.\n",
      "Try using .loc[row_indexer,col_indexer] = value instead\n",
      "\n",
      "See the caveats in the documentation: https://pandas.pydata.org/pandas-docs/stable/user_guide/indexing.html#returning-a-view-versus-a-copy\n",
      "  new_df[\"Initially assigned at\"] = pd.to_datetime(new_df[\"Initially assigned at\"],dayfirst=True)\n",
      "C:\\Users\\psure\\AppData\\Local\\Temp\\ipykernel_17376\\219468538.py:5: SettingWithCopyWarning: \n",
      "A value is trying to be set on a copy of a slice from a DataFrame.\n",
      "Try using .loc[row_indexer,col_indexer] = value instead\n",
      "\n",
      "See the caveats in the documentation: https://pandas.pydata.org/pandas-docs/stable/user_guide/indexing.html#returning-a-view-versus-a-copy\n",
      "  new_df[\"Assigned at\"] = pd.to_datetime(new_df[\"Assigned at\"],dayfirst=True)\n"
     ]
    }
   ],
   "source": [
    "### transformed columns into datetime \n",
    "\n",
    "new_df[\"Solved at\"] = pd.to_datetime(new_df[\"Solved at\"], dayfirst=True)\n",
    "new_df[\"Initially assigned at\"] = pd.to_datetime(new_df[\"Initially assigned at\"],dayfirst=True)\n",
    "new_df[\"Assigned at\"] = pd.to_datetime(new_df[\"Assigned at\"],dayfirst=True)\n"
   ]
  },
  {
   "cell_type": "code",
   "execution_count": 8,
   "metadata": {},
   "outputs": [
    {
     "data": {
      "text/plain": [
       "(1041, 23)"
      ]
     },
     "execution_count": 8,
     "metadata": {},
     "output_type": "execute_result"
    }
   ],
   "source": [
    "new_df[new_df[\"Assigned at\"] != new_df[\"Initially assigned at\"]].shape"
   ]
  },
  {
   "cell_type": "code",
   "execution_count": 9,
   "metadata": {},
   "outputs": [
    {
     "name": "stderr",
     "output_type": "stream",
     "text": [
      "C:\\Users\\psure\\AppData\\Local\\Temp\\ipykernel_17376\\1129799577.py:2: SettingWithCopyWarning: \n",
      "A value is trying to be set on a copy of a slice from a DataFrame.\n",
      "Try using .loc[row_indexer,col_indexer] = value instead\n",
      "\n",
      "See the caveats in the documentation: https://pandas.pydata.org/pandas-docs/stable/user_guide/indexing.html#returning-a-view-versus-a-copy\n",
      "  new_df[\"diff\"] = new_df['Solved at'] - new_df['Initially assigned at']\n"
     ]
    }
   ],
   "source": [
    "\n",
    "### calculated the difference between Intially assigned date and solved date\n",
    "new_df[\"diff\"] = new_df['Solved at'] - new_df['Initially assigned at']"
   ]
  },
  {
   "cell_type": "code",
   "execution_count": 10,
   "metadata": {},
   "outputs": [
    {
     "name": "stdout",
     "output_type": "stream",
     "text": [
      "                  diff        timedelta        hours\n",
      "0     66 days 06:02:00 66 days 06:02:00  1590.033333\n",
      "1     31 days 06:08:00 31 days 06:08:00   750.133333\n",
      "2     13 days 20:38:00 13 days 20:38:00   332.633333\n",
      "3     63 days 07:51:00 63 days 07:51:00  1519.850000\n",
      "4     25 days 04:37:00 25 days 04:37:00   604.616667\n",
      "...                ...              ...          ...\n",
      "16471  0 days 00:36:00  0 days 00:36:00     0.600000\n",
      "16472  4 days 00:16:00  4 days 00:16:00    96.266667\n",
      "16473              NaT              NaT          NaN\n",
      "16474  8 days 06:34:00  8 days 06:34:00   198.566667\n",
      "16475  0 days 04:31:00  0 days 04:31:00     4.516667\n",
      "\n",
      "[13081 rows x 3 columns]\n"
     ]
    }
   ],
   "source": [
    " ### calculated the difference between Intially assigned date and solved date in hours \n",
    "data1 = new_df[[\"diff\"]]\n",
    " \n",
    " df1 = pd.DataFrame(data1)\n",
    "\n",
    " df1['timedelta'] = pd.to_timedelta(df1['diff'])\n",
    " df1['hours'] = df1['timedelta'].dt.total_seconds() / 3600\n",
    "\n",
    " print(df1)"
   ]
  },
  {
   "cell_type": "code",
   "execution_count": 11,
   "metadata": {},
   "outputs": [
    {
     "name": "stderr",
     "output_type": "stream",
     "text": [
      "C:\\Users\\psure\\AppData\\Local\\Temp\\ipykernel_17376\\732173857.py:1: SettingWithCopyWarning: \n",
      "A value is trying to be set on a copy of a slice from a DataFrame.\n",
      "Try using .loc[row_indexer,col_indexer] = value instead\n",
      "\n",
      "See the caveats in the documentation: https://pandas.pydata.org/pandas-docs/stable/user_guide/indexing.html#returning-a-view-versus-a-copy\n",
      "  new_df[\"hours_group_hold_the_issue\"] = df1[\"hours\"]\n"
     ]
    }
   ],
   "source": [
    "new_df[\"hours_group_hold_the_issue\"] = df1[\"hours\"]"
   ]
  },
  {
   "cell_type": "code",
   "execution_count": 12,
   "metadata": {},
   "outputs": [
    {
     "data": {
      "text/html": [
       "<div>\n",
       "<style scoped>\n",
       "    .dataframe tbody tr th:only-of-type {\n",
       "        vertical-align: middle;\n",
       "    }\n",
       "\n",
       "    .dataframe tbody tr th {\n",
       "        vertical-align: top;\n",
       "    }\n",
       "\n",
       "    .dataframe thead th {\n",
       "        text-align: right;\n",
       "    }\n",
       "</style>\n",
       "<table border=\"1\" class=\"dataframe\">\n",
       "  <thead>\n",
       "    <tr style=\"text-align: right;\">\n",
       "      <th></th>\n",
       "      <th>Id</th>\n",
       "      <th>Requester id</th>\n",
       "      <th>Group</th>\n",
       "      <th>Status</th>\n",
       "      <th>Priority</th>\n",
       "      <th>Via</th>\n",
       "      <th>Created at</th>\n",
       "      <th>Updated at</th>\n",
       "      <th>Assigned at</th>\n",
       "      <th>Initially assigned at</th>\n",
       "      <th>...</th>\n",
       "      <th>First reply time in minutes within business hours</th>\n",
       "      <th>First resolution time in minutes</th>\n",
       "      <th>First resolution time in minutes within business hours</th>\n",
       "      <th>Full resolution time in minutes</th>\n",
       "      <th>Full resolution time in minutes within business hours</th>\n",
       "      <th>Requester wait time in minutes</th>\n",
       "      <th>Requester wait time in minutes within business hours</th>\n",
       "      <th>Manual Tagging of Categories [list]</th>\n",
       "      <th>diff</th>\n",
       "      <th>hours_group_hold_the_issue</th>\n",
       "    </tr>\n",
       "  </thead>\n",
       "  <tbody>\n",
       "    <tr>\n",
       "      <th>14209</th>\n",
       "      <td>335374</td>\n",
       "      <td>11115821251869</td>\n",
       "      <td>Support</td>\n",
       "      <td>Closed</td>\n",
       "      <td>Low</td>\n",
       "      <td>Mail</td>\n",
       "      <td>23-05-2023 09:12</td>\n",
       "      <td>13-06-2023 18:37</td>\n",
       "      <td>2023-05-23 10:40:00</td>\n",
       "      <td>2023-05-23 10:40:00</td>\n",
       "      <td>...</td>\n",
       "      <td>232.0</td>\n",
       "      <td>1944.0</td>\n",
       "      <td>1224.0</td>\n",
       "      <td>1944.0</td>\n",
       "      <td>1224.0</td>\n",
       "      <td>1944.0</td>\n",
       "      <td>1224.0</td>\n",
       "      <td>-</td>\n",
       "      <td>1 days 06:57:00</td>\n",
       "      <td>30.95</td>\n",
       "    </tr>\n",
       "    <tr>\n",
       "      <th>2294</th>\n",
       "      <td>334761</td>\n",
       "      <td>11100725512605</td>\n",
       "      <td>Reimbursement Claims</td>\n",
       "      <td>Solved</td>\n",
       "      <td>Low</td>\n",
       "      <td>Mail</td>\n",
       "      <td>22-05-2023 15:54</td>\n",
       "      <td>09-06-2023 11:32</td>\n",
       "      <td>2023-05-22 17:38:00</td>\n",
       "      <td>2023-05-22 17:38:00</td>\n",
       "      <td>...</td>\n",
       "      <td>373.0</td>\n",
       "      <td>9822.0</td>\n",
       "      <td>4782.0</td>\n",
       "      <td>25658.0</td>\n",
       "      <td>12698.0</td>\n",
       "      <td>20168.0</td>\n",
       "      <td>9976.0</td>\n",
       "      <td>-</td>\n",
       "      <td>17 days 17:54:00</td>\n",
       "      <td>425.90</td>\n",
       "    </tr>\n",
       "  </tbody>\n",
       "</table>\n",
       "<p>2 rows × 25 columns</p>\n",
       "</div>"
      ],
      "text/plain": [
       "           Id    Requester id                 Group  Status Priority   Via  \\\n",
       "14209  335374  11115821251869               Support  Closed      Low  Mail   \n",
       "2294   334761  11100725512605  Reimbursement Claims  Solved      Low  Mail   \n",
       "\n",
       "             Created at        Updated at         Assigned at  \\\n",
       "14209  23-05-2023 09:12  13-06-2023 18:37 2023-05-23 10:40:00   \n",
       "2294   22-05-2023 15:54  09-06-2023 11:32 2023-05-22 17:38:00   \n",
       "\n",
       "      Initially assigned at  ...  \\\n",
       "14209   2023-05-23 10:40:00  ...   \n",
       "2294    2023-05-22 17:38:00  ...   \n",
       "\n",
       "      First reply time in minutes within business hours  \\\n",
       "14209                                             232.0   \n",
       "2294                                              373.0   \n",
       "\n",
       "       First resolution time in minutes  \\\n",
       "14209                            1944.0   \n",
       "2294                             9822.0   \n",
       "\n",
       "      First resolution time in minutes within business hours  \\\n",
       "14209                                             1224.0       \n",
       "2294                                              4782.0       \n",
       "\n",
       "       Full resolution time in minutes  \\\n",
       "14209                           1944.0   \n",
       "2294                           25658.0   \n",
       "\n",
       "       Full resolution time in minutes within business hours  \\\n",
       "14209                                             1224.0       \n",
       "2294                                             12698.0       \n",
       "\n",
       "       Requester wait time in minutes  \\\n",
       "14209                          1944.0   \n",
       "2294                          20168.0   \n",
       "\n",
       "       Requester wait time in minutes within business hours  \\\n",
       "14209                                             1224.0      \n",
       "2294                                              9976.0      \n",
       "\n",
       "       Manual Tagging of Categories [list]             diff  \\\n",
       "14209                                    -  1 days 06:57:00   \n",
       "2294                                     - 17 days 17:54:00   \n",
       "\n",
       "       hours_group_hold_the_issue  \n",
       "14209                       30.95  \n",
       "2294                       425.90  \n",
       "\n",
       "[2 rows x 25 columns]"
      ]
     },
     "execution_count": 12,
     "metadata": {},
     "output_type": "execute_result"
    }
   ],
   "source": [
    "new_df.sample(2)"
   ]
  },
  {
   "cell_type": "code",
   "execution_count": 13,
   "metadata": {},
   "outputs": [
    {
     "data": {
      "text/plain": [
       "Index(['Id', 'Requester id', 'Group', 'Status', 'Priority', 'Via',\n",
       "       'Created at', 'Updated at', 'Assigned at', 'Initially assigned at',\n",
       "       'Solved at', 'Resolution time', 'Satisfaction Score', 'Reopens',\n",
       "       'Replies', 'First reply time in minutes within business hours',\n",
       "       'First resolution time in minutes',\n",
       "       'First resolution time in minutes within business hours',\n",
       "       'Full resolution time in minutes',\n",
       "       'Full resolution time in minutes within business hours',\n",
       "       'Requester wait time in minutes',\n",
       "       'Requester wait time in minutes within business hours',\n",
       "       'Manual Tagging of Categories [list]', 'diff',\n",
       "       'hours_group_hold_the_issue'],\n",
       "      dtype='object')"
      ]
     },
     "execution_count": 13,
     "metadata": {},
     "output_type": "execute_result"
    }
   ],
   "source": [
    "new_df.columns"
   ]
  },
  {
   "cell_type": "code",
   "execution_count": 14,
   "metadata": {},
   "outputs": [
    {
     "data": {
      "text/plain": [
       "(0, 25)"
      ]
     },
     "execution_count": 14,
     "metadata": {},
     "output_type": "execute_result"
    }
   ],
   "source": [
    "new_df[new_df[\"Full resolution time in minutes\"] < new_df[\"Full resolution time in minutes within business hours\"]].shape"
   ]
  },
  {
   "cell_type": "code",
   "execution_count": 15,
   "metadata": {},
   "outputs": [
    {
     "data": {
      "text/plain": [
       "(0, 25)"
      ]
     },
     "execution_count": 15,
     "metadata": {},
     "output_type": "execute_result"
    }
   ],
   "source": [
    "new_df[new_df[\"Full resolution time in minutes\"] < new_df[\"Full resolution time in minutes within business hours\"]].shape"
   ]
  },
  {
   "cell_type": "code",
   "execution_count": 16,
   "metadata": {},
   "outputs": [
    {
     "data": {
      "text/plain": [
       "(0, 25)"
      ]
     },
     "execution_count": 16,
     "metadata": {},
     "output_type": "execute_result"
    }
   ],
   "source": [
    "new_df[new_df[\"Requester wait time in minutes\"] < new_df[\"Requester wait time in minutes within business hours\"]].shape"
   ]
  },
  {
   "cell_type": "code",
   "execution_count": 17,
   "metadata": {},
   "outputs": [
    {
     "data": {
      "text/plain": [
       "Index(['Id', 'Requester id', 'Group', 'Status', 'Priority', 'Via',\n",
       "       'Created at', 'Updated at', 'Assigned at', 'Initially assigned at',\n",
       "       'Solved at', 'Resolution time', 'Satisfaction Score', 'Reopens',\n",
       "       'Replies', 'First reply time in minutes within business hours',\n",
       "       'First resolution time in minutes',\n",
       "       'First resolution time in minutes within business hours',\n",
       "       'Full resolution time in minutes',\n",
       "       'Full resolution time in minutes within business hours',\n",
       "       'Requester wait time in minutes',\n",
       "       'Requester wait time in minutes within business hours',\n",
       "       'Manual Tagging of Categories [list]', 'diff',\n",
       "       'hours_group_hold_the_issue'],\n",
       "      dtype='object')"
      ]
     },
     "execution_count": 17,
     "metadata": {},
     "output_type": "execute_result"
    }
   ],
   "source": [
    "new_df.columns"
   ]
  },
  {
   "cell_type": "code",
   "execution_count": 18,
   "metadata": {},
   "outputs": [
    {
     "data": {
      "text/html": [
       "<div>\n",
       "<style scoped>\n",
       "    .dataframe tbody tr th:only-of-type {\n",
       "        vertical-align: middle;\n",
       "    }\n",
       "\n",
       "    .dataframe tbody tr th {\n",
       "        vertical-align: top;\n",
       "    }\n",
       "\n",
       "    .dataframe thead th {\n",
       "        text-align: right;\n",
       "    }\n",
       "</style>\n",
       "<table border=\"1\" class=\"dataframe\">\n",
       "  <thead>\n",
       "    <tr style=\"text-align: right;\">\n",
       "      <th></th>\n",
       "      <th>Id</th>\n",
       "      <th>Requester id</th>\n",
       "      <th>Group</th>\n",
       "      <th>Status</th>\n",
       "      <th>Priority</th>\n",
       "      <th>Via</th>\n",
       "      <th>Created at</th>\n",
       "      <th>Updated at</th>\n",
       "      <th>Assigned at</th>\n",
       "      <th>Initially assigned at</th>\n",
       "      <th>Solved at</th>\n",
       "      <th>Resolution time</th>\n",
       "      <th>Satisfaction Score</th>\n",
       "      <th>Reopens</th>\n",
       "      <th>Replies</th>\n",
       "      <th>First reply time in minutes within business hours</th>\n",
       "      <th>First resolution time in minutes</th>\n",
       "      <th>First resolution time in minutes within business hours</th>\n",
       "      <th>Full resolution time in minutes</th>\n",
       "      <th>Full resolution time in minutes within business hours</th>\n",
       "      <th>Requester wait time in minutes</th>\n",
       "      <th>Requester wait time in minutes within business hours</th>\n",
       "      <th>Manual Tagging of Categories [list]</th>\n",
       "      <th>diff</th>\n",
       "      <th>hours_group_hold_the_issue</th>\n",
       "    </tr>\n",
       "  </thead>\n",
       "  <tbody>\n",
       "    <tr>\n",
       "      <th>13042</th>\n",
       "      <td>330331</td>\n",
       "      <td>9923266719773</td>\n",
       "      <td>Endorsements</td>\n",
       "      <td>Closed</td>\n",
       "      <td>Low</td>\n",
       "      <td>Mail</td>\n",
       "      <td>17-05-2023 07:02</td>\n",
       "      <td>08-06-2023 16:35</td>\n",
       "      <td>2023-05-19 15:32:00</td>\n",
       "      <td>2023-05-19 15:32:00</td>\n",
       "      <td>2023-05-19 15:32:00</td>\n",
       "      <td>57.0</td>\n",
       "      <td>NaN</td>\n",
       "      <td>0</td>\n",
       "      <td>1</td>\n",
       "      <td>1833.0</td>\n",
       "      <td>3390.0</td>\n",
       "      <td>1833.0</td>\n",
       "      <td>3390.0</td>\n",
       "      <td>1833.0</td>\n",
       "      <td>3390.0</td>\n",
       "      <td>1833.0</td>\n",
       "      <td>-</td>\n",
       "      <td>0 days</td>\n",
       "      <td>0.0</td>\n",
       "    </tr>\n",
       "  </tbody>\n",
       "</table>\n",
       "</div>"
      ],
      "text/plain": [
       "           Id   Requester id         Group  Status Priority   Via  \\\n",
       "13042  330331  9923266719773  Endorsements  Closed      Low  Mail   \n",
       "\n",
       "             Created at        Updated at         Assigned at  \\\n",
       "13042  17-05-2023 07:02  08-06-2023 16:35 2023-05-19 15:32:00   \n",
       "\n",
       "      Initially assigned at           Solved at  Resolution time  \\\n",
       "13042   2023-05-19 15:32:00 2023-05-19 15:32:00             57.0   \n",
       "\n",
       "      Satisfaction Score  Reopens  Replies  \\\n",
       "13042                NaN        0        1   \n",
       "\n",
       "       First reply time in minutes within business hours  \\\n",
       "13042                                             1833.0   \n",
       "\n",
       "       First resolution time in minutes  \\\n",
       "13042                            3390.0   \n",
       "\n",
       "       First resolution time in minutes within business hours  \\\n",
       "13042                                             1833.0        \n",
       "\n",
       "       Full resolution time in minutes  \\\n",
       "13042                           3390.0   \n",
       "\n",
       "       Full resolution time in minutes within business hours  \\\n",
       "13042                                             1833.0       \n",
       "\n",
       "       Requester wait time in minutes  \\\n",
       "13042                          3390.0   \n",
       "\n",
       "       Requester wait time in minutes within business hours  \\\n",
       "13042                                             1833.0      \n",
       "\n",
       "      Manual Tagging of Categories [list]   diff  hours_group_hold_the_issue  \n",
       "13042                                   - 0 days                         0.0  "
      ]
     },
     "execution_count": 18,
     "metadata": {},
     "output_type": "execute_result"
    }
   ],
   "source": [
    "pd.set_option('display.max_columns', None)\n",
    "new_df.sample()"
   ]
  },
  {
   "cell_type": "code",
   "execution_count": 19,
   "metadata": {},
   "outputs": [
    {
     "name": "stderr",
     "output_type": "stream",
     "text": [
      "C:\\Users\\psure\\AppData\\Local\\Temp\\ipykernel_17376\\3152608108.py:3: SettingWithCopyWarning: \n",
      "A value is trying to be set on a copy of a slice from a DataFrame\n",
      "\n",
      "See the caveats in the documentation: https://pandas.pydata.org/pandas-docs/stable/user_guide/indexing.html#returning-a-view-versus-a-copy\n",
      "  new_df.drop([\"Id\",\"Requester id\", \"Created at\",\"Updated at\",\"Assigned at\"], axis=1, inplace = True )\n",
      "C:\\Users\\psure\\AppData\\Local\\Temp\\ipykernel_17376\\3152608108.py:4: SettingWithCopyWarning: \n",
      "A value is trying to be set on a copy of a slice from a DataFrame\n",
      "\n",
      "See the caveats in the documentation: https://pandas.pydata.org/pandas-docs/stable/user_guide/indexing.html#returning-a-view-versus-a-copy\n",
      "  new_df.drop([\"First reply time in minutes within business hours\"], axis=1, inplace = True )\n",
      "C:\\Users\\psure\\AppData\\Local\\Temp\\ipykernel_17376\\3152608108.py:5: SettingWithCopyWarning: \n",
      "A value is trying to be set on a copy of a slice from a DataFrame\n",
      "\n",
      "See the caveats in the documentation: https://pandas.pydata.org/pandas-docs/stable/user_guide/indexing.html#returning-a-view-versus-a-copy\n",
      "  new_df.drop([\"First resolution time in minutes\"], axis=1, inplace = True )\n",
      "C:\\Users\\psure\\AppData\\Local\\Temp\\ipykernel_17376\\3152608108.py:6: SettingWithCopyWarning: \n",
      "A value is trying to be set on a copy of a slice from a DataFrame\n",
      "\n",
      "See the caveats in the documentation: https://pandas.pydata.org/pandas-docs/stable/user_guide/indexing.html#returning-a-view-versus-a-copy\n",
      "  new_df.drop([\"Full resolution time in minutes\"], axis=1, inplace = True )\n",
      "C:\\Users\\psure\\AppData\\Local\\Temp\\ipykernel_17376\\3152608108.py:7: SettingWithCopyWarning: \n",
      "A value is trying to be set on a copy of a slice from a DataFrame\n",
      "\n",
      "See the caveats in the documentation: https://pandas.pydata.org/pandas-docs/stable/user_guide/indexing.html#returning-a-view-versus-a-copy\n",
      "  new_df.drop([\"Requester wait time in minutes\", \"Reopens\"], axis=1, inplace = True )\n"
     ]
    }
   ],
   "source": [
    "### dropped the column after doing transformations\n",
    "\n",
    "new_df.drop([\"Id\",\"Requester id\", \"Created at\",\"Updated at\",\"Assigned at\"], axis=1, inplace = True )\n",
    "new_df.drop([\"First reply time in minutes within business hours\"], axis=1, inplace = True )\n",
    "new_df.drop([\"First resolution time in minutes\"], axis=1, inplace = True )\n",
    "new_df.drop([\"Full resolution time in minutes\"], axis=1, inplace = True )\n",
    "new_df.drop([\"Requester wait time in minutes\", \"Reopens\"], axis=1, inplace = True )\n"
   ]
  },
  {
   "cell_type": "code",
   "execution_count": 20,
   "metadata": {},
   "outputs": [
    {
     "data": {
      "text/plain": [
       "Group                                                        0\n",
       "Status                                                       0\n",
       "Priority                                                     0\n",
       "Via                                                          0\n",
       "Initially assigned at                                      126\n",
       "Solved at                                                 1823\n",
       "Resolution time                                           1823\n",
       "Satisfaction Score                                        9845\n",
       "Replies                                                      0\n",
       "First resolution time in minutes within business hours    1469\n",
       "Full resolution time in minutes within business hours     1823\n",
       "Requester wait time in minutes within business hours       124\n",
       "Manual Tagging of Categories [list]                          0\n",
       "diff                                                      1823\n",
       "hours_group_hold_the_issue                                1823\n",
       "dtype: int64"
      ]
     },
     "execution_count": 20,
     "metadata": {},
     "output_type": "execute_result"
    }
   ],
   "source": [
    "new_df.isnull().sum()"
   ]
  },
  {
   "cell_type": "code",
   "execution_count": 21,
   "metadata": {},
   "outputs": [
    {
     "name": "stderr",
     "output_type": "stream",
     "text": [
      "C:\\Users\\psure\\AppData\\Local\\Temp\\ipykernel_17376\\446981451.py:3: SettingWithCopyWarning: \n",
      "A value is trying to be set on a copy of a slice from a DataFrame\n",
      "\n",
      "See the caveats in the documentation: https://pandas.pydata.org/pandas-docs/stable/user_guide/indexing.html#returning-a-view-versus-a-copy\n",
      "  new_df.dropna(subset = \"Full resolution time in minutes within business hours\", inplace=True, axis= 0)\n"
     ]
    }
   ],
   "source": [
    "### removed rows having nan values\n",
    "\n",
    "new_df.dropna(subset = \"Full resolution time in minutes within business hours\", inplace=True, axis= 0)"
   ]
  },
  {
   "cell_type": "code",
   "execution_count": 22,
   "metadata": {},
   "outputs": [
    {
     "data": {
      "text/plain": [
       "Group                                                        0\n",
       "Status                                                       0\n",
       "Priority                                                     0\n",
       "Via                                                          0\n",
       "Initially assigned at                                        0\n",
       "Solved at                                                    0\n",
       "Resolution time                                              0\n",
       "Satisfaction Score                                        8022\n",
       "Replies                                                      0\n",
       "First resolution time in minutes within business hours       0\n",
       "Full resolution time in minutes within business hours        0\n",
       "Requester wait time in minutes within business hours         0\n",
       "Manual Tagging of Categories [list]                          0\n",
       "diff                                                         0\n",
       "hours_group_hold_the_issue                                   0\n",
       "dtype: int64"
      ]
     },
     "execution_count": 22,
     "metadata": {},
     "output_type": "execute_result"
    }
   ],
   "source": [
    "new_df.isnull().sum()"
   ]
  },
  {
   "cell_type": "code",
   "execution_count": 23,
   "metadata": {},
   "outputs": [
    {
     "name": "stderr",
     "output_type": "stream",
     "text": [
      "C:\\Users\\psure\\AppData\\Local\\Temp\\ipykernel_17376\\1587147339.py:3: SettingWithCopyWarning: \n",
      "A value is trying to be set on a copy of a slice from a DataFrame.\n",
      "Try using .loc[row_indexer,col_indexer] = value instead\n",
      "\n",
      "See the caveats in the documentation: https://pandas.pydata.org/pandas-docs/stable/user_guide/indexing.html#returning-a-view-versus-a-copy\n",
      "  new_df['Satisfaction Score'] = new_df['Satisfaction Score'].fillna(0)\n"
     ]
    }
   ],
   "source": [
    "### A larger portion (8022 rows) of the Satisfaction Score were having null values, so, I filled it with zero \n",
    "\n",
    "new_df['Satisfaction Score'] = new_df['Satisfaction Score'].fillna(0)\n"
   ]
  },
  {
   "cell_type": "code",
   "execution_count": 24,
   "metadata": {},
   "outputs": [
    {
     "data": {
      "text/plain": [
       "0          8022\n",
       "Offered    2500\n",
       "5           364\n",
       "4           288\n",
       "3            59\n",
       "1            13\n",
       "2            12\n",
       "Name: Satisfaction Score, dtype: int64"
      ]
     },
     "execution_count": 24,
     "metadata": {},
     "output_type": "execute_result"
    }
   ],
   "source": [
    "new_df['Satisfaction Score'].value_counts()"
   ]
  },
  {
   "cell_type": "code",
   "execution_count": 25,
   "metadata": {},
   "outputs": [
    {
     "name": "stderr",
     "output_type": "stream",
     "text": [
      "C:\\Users\\psure\\AppData\\Local\\Temp\\ipykernel_17376\\640911176.py:4: SettingWithCopyWarning: \n",
      "A value is trying to be set on a copy of a slice from a DataFrame.\n",
      "Try using .loc[row_indexer,col_indexer] = value instead\n",
      "\n",
      "See the caveats in the documentation: https://pandas.pydata.org/pandas-docs/stable/user_guide/indexing.html#returning-a-view-versus-a-copy\n",
      "  new_df[\"First_resolution_in_business_hours\"] = (new_df[\"First resolution time in minutes within business hours\"]/60).astype(int)\n",
      "C:\\Users\\psure\\AppData\\Local\\Temp\\ipykernel_17376\\640911176.py:6: SettingWithCopyWarning: \n",
      "A value is trying to be set on a copy of a slice from a DataFrame.\n",
      "Try using .loc[row_indexer,col_indexer] = value instead\n",
      "\n",
      "See the caveats in the documentation: https://pandas.pydata.org/pandas-docs/stable/user_guide/indexing.html#returning-a-view-versus-a-copy\n",
      "  new_df[\"Full_resolution_in_business_hours\"] = (new_df[\"Full resolution time in minutes within business hours\"]/60).astype(int)\n",
      "C:\\Users\\psure\\AppData\\Local\\Temp\\ipykernel_17376\\640911176.py:8: SettingWithCopyWarning: \n",
      "A value is trying to be set on a copy of a slice from a DataFrame.\n",
      "Try using .loc[row_indexer,col_indexer] = value instead\n",
      "\n",
      "See the caveats in the documentation: https://pandas.pydata.org/pandas-docs/stable/user_guide/indexing.html#returning-a-view-versus-a-copy\n",
      "  new_df[\"Requester_wait_time_in_business_hours\"] = (new_df[\"Requester wait time in minutes within business hours\"]/60).astype(int)\n",
      "C:\\Users\\psure\\AppData\\Local\\Temp\\ipykernel_17376\\640911176.py:10: SettingWithCopyWarning: \n",
      "A value is trying to be set on a copy of a slice from a DataFrame.\n",
      "Try using .loc[row_indexer,col_indexer] = value instead\n",
      "\n",
      "See the caveats in the documentation: https://pandas.pydata.org/pandas-docs/stable/user_guide/indexing.html#returning-a-view-versus-a-copy\n",
      "  new_df[\"hours_group_hold_the_issue\"] = new_df[\"hours_group_hold_the_issue\"].astype(int)\n",
      "C:\\Users\\psure\\AppData\\Local\\Temp\\ipykernel_17376\\640911176.py:14: SettingWithCopyWarning: \n",
      "A value is trying to be set on a copy of a slice from a DataFrame\n",
      "\n",
      "See the caveats in the documentation: https://pandas.pydata.org/pandas-docs/stable/user_guide/indexing.html#returning-a-view-versus-a-copy\n",
      "  new_df.rename(columns={\"Manual Tagging of Categories [list]\": \"type_of_ticket\"}, inplace = True)\n"
     ]
    }
   ],
   "source": [
    "### converting minute columns into hours for analysis\n",
    "\n",
    "\n",
    "new_df[\"First_resolution_in_business_hours\"] = (new_df[\"First resolution time in minutes within business hours\"]/60).astype(int)\n",
    "\n",
    "new_df[\"Full_resolution_in_business_hours\"] = (new_df[\"Full resolution time in minutes within business hours\"]/60).astype(int)\n",
    "\n",
    "new_df[\"Requester_wait_time_in_business_hours\"] = (new_df[\"Requester wait time in minutes within business hours\"]/60).astype(int)\n",
    "\n",
    "new_df[\"hours_group_hold_the_issue\"] = new_df[\"hours_group_hold_the_issue\"].astype(int)\n",
    "\n",
    "### Renaming \"Manual Tagging of Categories [list]\" as  \"type_of_ticket\" for better understanding \n",
    "\n",
    "new_df.rename(columns={\"Manual Tagging of Categories [list]\": \"type_of_ticket\"}, inplace = True)"
   ]
  },
  {
   "cell_type": "code",
   "execution_count": 26,
   "metadata": {},
   "outputs": [
    {
     "name": "stderr",
     "output_type": "stream",
     "text": [
      "C:\\Users\\psure\\AppData\\Local\\Temp\\ipykernel_17376\\3783136717.py:1: SettingWithCopyWarning: \n",
      "A value is trying to be set on a copy of a slice from a DataFrame\n",
      "\n",
      "See the caveats in the documentation: https://pandas.pydata.org/pandas-docs/stable/user_guide/indexing.html#returning-a-view-versus-a-copy\n",
      "  new_df.drop([\"First resolution time in minutes within business hours\"], axis=1, inplace = True )\n",
      "C:\\Users\\psure\\AppData\\Local\\Temp\\ipykernel_17376\\3783136717.py:2: SettingWithCopyWarning: \n",
      "A value is trying to be set on a copy of a slice from a DataFrame\n",
      "\n",
      "See the caveats in the documentation: https://pandas.pydata.org/pandas-docs/stable/user_guide/indexing.html#returning-a-view-versus-a-copy\n",
      "  new_df.drop([\"Full resolution time in minutes within business hours\"], axis=1, inplace = True )\n",
      "C:\\Users\\psure\\AppData\\Local\\Temp\\ipykernel_17376\\3783136717.py:3: SettingWithCopyWarning: \n",
      "A value is trying to be set on a copy of a slice from a DataFrame\n",
      "\n",
      "See the caveats in the documentation: https://pandas.pydata.org/pandas-docs/stable/user_guide/indexing.html#returning-a-view-versus-a-copy\n",
      "  new_df.drop([\"Requester wait time in minutes within business hours\", \"diff\"], axis=1, inplace = True )\n"
     ]
    }
   ],
   "source": [
    "new_df.drop([\"First resolution time in minutes within business hours\"], axis=1, inplace = True )\n",
    "new_df.drop([\"Full resolution time in minutes within business hours\"], axis=1, inplace = True )\n",
    "new_df.drop([\"Requester wait time in minutes within business hours\", \"diff\"], axis=1, inplace = True )"
   ]
  },
  {
   "cell_type": "code",
   "execution_count": 27,
   "metadata": {},
   "outputs": [
    {
     "data": {
      "text/plain": [
       "Index(['Group', 'Status', 'Priority', 'Via', 'Initially assigned at',\n",
       "       'Solved at', 'Resolution time', 'Satisfaction Score', 'Replies',\n",
       "       'type_of_ticket', 'hours_group_hold_the_issue',\n",
       "       'First_resolution_in_business_hours',\n",
       "       'Full_resolution_in_business_hours',\n",
       "       'Requester_wait_time_in_business_hours'],\n",
       "      dtype='object')"
      ]
     },
     "execution_count": 27,
     "metadata": {},
     "output_type": "execute_result"
    }
   ],
   "source": [
    "new_df.columns"
   ]
  },
  {
   "cell_type": "code",
   "execution_count": 28,
   "metadata": {},
   "outputs": [
    {
     "data": {
      "text/html": [
       "<div>\n",
       "<style scoped>\n",
       "    .dataframe tbody tr th:only-of-type {\n",
       "        vertical-align: middle;\n",
       "    }\n",
       "\n",
       "    .dataframe tbody tr th {\n",
       "        vertical-align: top;\n",
       "    }\n",
       "\n",
       "    .dataframe thead th {\n",
       "        text-align: right;\n",
       "    }\n",
       "</style>\n",
       "<table border=\"1\" class=\"dataframe\">\n",
       "  <thead>\n",
       "    <tr style=\"text-align: right;\">\n",
       "      <th></th>\n",
       "      <th>Group</th>\n",
       "      <th>Status</th>\n",
       "      <th>Priority</th>\n",
       "      <th>Via</th>\n",
       "      <th>Initially assigned at</th>\n",
       "      <th>Solved at</th>\n",
       "      <th>Resolution time</th>\n",
       "      <th>Satisfaction Score</th>\n",
       "      <th>Replies</th>\n",
       "      <th>type_of_ticket</th>\n",
       "      <th>hours_group_hold_the_issue</th>\n",
       "      <th>First_resolution_in_business_hours</th>\n",
       "      <th>Full_resolution_in_business_hours</th>\n",
       "      <th>Requester_wait_time_in_business_hours</th>\n",
       "    </tr>\n",
       "  </thead>\n",
       "  <tbody>\n",
       "    <tr>\n",
       "      <th>0</th>\n",
       "      <td>Support</td>\n",
       "      <td>Solved</td>\n",
       "      <td>Low</td>\n",
       "      <td>Mail</td>\n",
       "      <td>2023-04-09 10:28:00</td>\n",
       "      <td>2023-06-14 16:30:00</td>\n",
       "      <td>1604.0</td>\n",
       "      <td>Offered</td>\n",
       "      <td>11</td>\n",
       "      <td>Is my treatment covered (IMTC)</td>\n",
       "      <td>1590</td>\n",
       "      <td>108</td>\n",
       "      <td>799</td>\n",
       "      <td>141</td>\n",
       "    </tr>\n",
       "    <tr>\n",
       "      <th>1</th>\n",
       "      <td>Reimbursement Claims</td>\n",
       "      <td>Closed</td>\n",
       "      <td>Low</td>\n",
       "      <td>Mail</td>\n",
       "      <td>2023-04-25 10:18:00</td>\n",
       "      <td>2023-05-26 16:26:00</td>\n",
       "      <td>765.0</td>\n",
       "      <td>0</td>\n",
       "      <td>10</td>\n",
       "      <td>-</td>\n",
       "      <td>750</td>\n",
       "      <td>25</td>\n",
       "      <td>380</td>\n",
       "      <td>252</td>\n",
       "    </tr>\n",
       "    <tr>\n",
       "      <th>2</th>\n",
       "      <td>Support</td>\n",
       "      <td>Solved</td>\n",
       "      <td>Low</td>\n",
       "      <td>Mail</td>\n",
       "      <td>2023-05-16 18:18:00</td>\n",
       "      <td>2023-05-30 14:56:00</td>\n",
       "      <td>333.0</td>\n",
       "      <td>4</td>\n",
       "      <td>11</td>\n",
       "      <td>Claims</td>\n",
       "      <td>332</td>\n",
       "      <td>14</td>\n",
       "      <td>165</td>\n",
       "      <td>55</td>\n",
       "    </tr>\n",
       "    <tr>\n",
       "      <th>3</th>\n",
       "      <td>Support</td>\n",
       "      <td>Solved</td>\n",
       "      <td>Low</td>\n",
       "      <td>Mail</td>\n",
       "      <td>2023-04-13 13:04:00</td>\n",
       "      <td>2023-06-15 20:55:00</td>\n",
       "      <td>1522.0</td>\n",
       "      <td>Offered</td>\n",
       "      <td>9</td>\n",
       "      <td>Claims</td>\n",
       "      <td>1519</td>\n",
       "      <td>24</td>\n",
       "      <td>765</td>\n",
       "      <td>156</td>\n",
       "    </tr>\n",
       "    <tr>\n",
       "      <th>4</th>\n",
       "      <td>Support</td>\n",
       "      <td>Closed</td>\n",
       "      <td>Low</td>\n",
       "      <td>Mail</td>\n",
       "      <td>2023-04-24 13:48:00</td>\n",
       "      <td>2023-05-19 18:25:00</td>\n",
       "      <td>605.0</td>\n",
       "      <td>4</td>\n",
       "      <td>9</td>\n",
       "      <td>Claims</td>\n",
       "      <td>604</td>\n",
       "      <td>0</td>\n",
       "      <td>295</td>\n",
       "      <td>66</td>\n",
       "    </tr>\n",
       "  </tbody>\n",
       "</table>\n",
       "</div>"
      ],
      "text/plain": [
       "                  Group  Status Priority   Via Initially assigned at  \\\n",
       "0               Support  Solved      Low  Mail   2023-04-09 10:28:00   \n",
       "1  Reimbursement Claims  Closed      Low  Mail   2023-04-25 10:18:00   \n",
       "2               Support  Solved      Low  Mail   2023-05-16 18:18:00   \n",
       "3               Support  Solved      Low  Mail   2023-04-13 13:04:00   \n",
       "4               Support  Closed      Low  Mail   2023-04-24 13:48:00   \n",
       "\n",
       "            Solved at  Resolution time Satisfaction Score  Replies  \\\n",
       "0 2023-06-14 16:30:00           1604.0            Offered       11   \n",
       "1 2023-05-26 16:26:00            765.0                  0       10   \n",
       "2 2023-05-30 14:56:00            333.0                  4       11   \n",
       "3 2023-06-15 20:55:00           1522.0            Offered        9   \n",
       "4 2023-05-19 18:25:00            605.0                  4        9   \n",
       "\n",
       "                   type_of_ticket  hours_group_hold_the_issue  \\\n",
       "0  Is my treatment covered (IMTC)                        1590   \n",
       "1                               -                         750   \n",
       "2                          Claims                         332   \n",
       "3                          Claims                        1519   \n",
       "4                          Claims                         604   \n",
       "\n",
       "   First_resolution_in_business_hours  Full_resolution_in_business_hours  \\\n",
       "0                                 108                                799   \n",
       "1                                  25                                380   \n",
       "2                                  14                                165   \n",
       "3                                  24                                765   \n",
       "4                                   0                                295   \n",
       "\n",
       "   Requester_wait_time_in_business_hours  \n",
       "0                                    141  \n",
       "1                                    252  \n",
       "2                                     55  \n",
       "3                                    156  \n",
       "4                                     66  "
      ]
     },
     "execution_count": 28,
     "metadata": {},
     "output_type": "execute_result"
    }
   ],
   "source": [
    "new_df.head()"
   ]
  },
  {
   "cell_type": "code",
   "execution_count": 29,
   "metadata": {},
   "outputs": [
    {
     "name": "stderr",
     "output_type": "stream",
     "text": [
      "C:\\Users\\psure\\AppData\\Local\\Temp\\ipykernel_17376\\1561845219.py:2: SettingWithCopyWarning: \n",
      "A value is trying to be set on a copy of a slice from a DataFrame.\n",
      "Try using .loc[row_indexer,col_indexer] = value instead\n",
      "\n",
      "See the caveats in the documentation: https://pandas.pydata.org/pandas-docs/stable/user_guide/indexing.html#returning-a-view-versus-a-copy\n",
      "  new_df[\"type_of_ticket\"] = new_df[\"type_of_ticket\"].replace(\"-\", \"others\")\n"
     ]
    }
   ],
   "source": [
    "### filled nan values present in ticket column by \"others\" parameter\n",
    "new_df[\"type_of_ticket\"] = new_df[\"type_of_ticket\"].replace(\"-\", \"others\")"
   ]
  },
  {
   "cell_type": "markdown",
   "metadata": {},
   "source": [
    "Below is the analysis derived from the dataset"
   ]
  },
  {
   "cell_type": "markdown",
   "metadata": {},
   "source": [
    "a. How are the efficiency numbers looking like? Can you share your views?"
   ]
  },
  {
   "cell_type": "code",
   "execution_count": 30,
   "metadata": {},
   "outputs": [
    {
     "data": {
      "text/plain": [
       "<Axes: xlabel='Group', ylabel='count'>"
      ]
     },
     "execution_count": 30,
     "metadata": {},
     "output_type": "execute_result"
    },
    {
     "data": {
      "image/png": "[encoded data removed]",
      "text/plain": [
       "<Figure size 640x480 with 1 Axes>"
      ]
     },
     "metadata": {},
     "output_type": "display_data"
    }
   ],
   "source": [
    "\n",
    "sns.countplot(x = \"Group\", data = new_df)\n",
    "\n",
    "### \"Endorsements\" group solves maximum problems and least is solved by \"Onboardings\" team"
   ]
  },
  {
   "cell_type": "code",
   "execution_count": 31,
   "metadata": {},
   "outputs": [
    {
     "data": {
      "text/plain": [
       "Endorsements            5081\n",
       "Support                 3236\n",
       "Reimbursement Claims    2603\n",
       "Onboardings              338\n",
       "Name: Group, dtype: int64"
      ]
     },
     "execution_count": 31,
     "metadata": {},
     "output_type": "execute_result"
    }
   ],
   "source": [
    "new_df[\"Group\"].value_counts()"
   ]
  },
  {
   "cell_type": "markdown",
   "metadata": {},
   "source": [
    "b. Which groups are quick, slow etc. Create a table + relevant charts."
   ]
  },
  {
   "cell_type": "code",
   "execution_count": 32,
   "metadata": {},
   "outputs": [
    {
     "name": "stdout",
     "output_type": "stream",
     "text": [
      "Group\n",
      "Endorsements            132\n",
      "Onboardings             301\n",
      "Reimbursement Claims    120\n",
      "Support                  72\n",
      "Name: Full_resolution_in_business_hours, dtype: int32\n"
     ]
    }
   ],
   "source": [
    "\n",
    "\n",
    "mean_values = new_df.groupby('Group')['Full_resolution_in_business_hours'].mean().astype(int)\n",
    "\n",
    "print(mean_values)\n",
    "\n",
    "###  \"Support\" group is quick in terms of average time taken to solve a problem is 72 hours  \n",
    "###  \"Onboardings\" group  slow in terms of average time taken to solve a problem is 301 hours\n",
    "\n",
    "\n",
    "\n"
   ]
  },
  {
   "cell_type": "code",
   "execution_count": 33,
   "metadata": {},
   "outputs": [
    {
     "data": {
      "image/png": "[encoded data removed]",
      "text/plain": [
       "<Figure size 640x480 with 1 Axes>"
      ]
     },
     "metadata": {},
     "output_type": "display_data"
    }
   ],
   "source": [
    "new_df[['Group','Full_resolution_in_business_hours']].groupby('Group').mean().plot.bar()\n",
    "plt.show()"
   ]
  },
  {
   "cell_type": "code",
   "execution_count": 34,
   "metadata": {},
   "outputs": [
    {
     "name": "stdout",
     "output_type": "stream",
     "text": [
      "Axes(0.125,0.11;0.775x0.77)\n"
     ]
    },
    {
     "data": {
      "image/png": "[encoded data removed]",
      "text/plain": [
       "<Figure size 640x480 with 1 Axes>"
      ]
     },
     "metadata": {},
     "output_type": "display_data"
    }
   ],
   "source": [
    "\n",
    "\n",
    "mean_values = new_df.groupby('type_of_ticket')['Full_resolution_in_business_hours'].mean().plot.bar()\n",
    "\n",
    "print(mean_values)\n",
    "\n",
    "### \"HR Queries\", \"Health ID\", \"Claims\" these tickets are taking more tyme to resolve a problem"
   ]
  },
  {
   "cell_type": "markdown",
   "metadata": {},
   "source": [
    "c. What type of tickets are taking the most time to resolve? Create a table + relevant charts."
   ]
  },
  {
   "cell_type": "code",
   "execution_count": 35,
   "metadata": {},
   "outputs": [
    {
     "name": "stdout",
     "output_type": "stream",
     "text": [
      "type_of_ticket\n",
      "Claims                               77\n",
      "HR Queries                          107\n",
      "Health Benefits                      60\n",
      "Health ID                           105\n",
      "Is my treatment covered (IMTC)       66\n",
      "Manage dependents                    61\n",
      "Network or Blacklisted Hospitals     32\n",
      "Not Applicable                       77\n",
      "Others                               53\n",
      "Super Top-up (STU)                   43\n",
      "Telehealth                           65\n",
      "others                              126\n",
      "Name: Full_resolution_in_business_hours, dtype: int32\n"
     ]
    }
   ],
   "source": [
    "mean_values = new_df.groupby('type_of_ticket')['Full_resolution_in_business_hours'].mean().astype(int)\n",
    "print(mean_values)"
   ]
  },
  {
   "cell_type": "markdown",
   "metadata": {},
   "source": [
    "d. Create the different type of data types we can infer from this data."
   ]
  },
  {
   "cell_type": "code",
   "execution_count": 36,
   "metadata": {},
   "outputs": [],
   "source": [
    "\n",
    "\n",
    "### \"Endorsements\" group has solved maximum problems\n",
    "### All the problem solved via mail by these different groups has been categorised at low \"priority\" level\n",
    "### \"Endorsements\" group is doing great job as they are keeping the issue in hold for mimimum amount of time  and solving then as soon as possible\n",
    "### “Waiting time” for customer is minimum for Network or Blacklisted Hospitals and maximum for Health ID department\n",
    "### Waiting time” for customer is minimum for support team and maximum for Reimbursement Claims group.\n",
    "\n"
   ]
  },
  {
   "cell_type": "code",
   "execution_count": 37,
   "metadata": {},
   "outputs": [
    {
     "data": {
      "text/plain": [
       "<Axes: xlabel='Group', ylabel='count'>"
      ]
     },
     "execution_count": 37,
     "metadata": {},
     "output_type": "execute_result"
    },
    {
     "data": {
      "image/png": "[encoded data removed]",
      "text/plain": [
       "<Figure size 640x480 with 1 Axes>"
      ]
     },
     "metadata": {},
     "output_type": "display_data"
    }
   ],
   "source": [
    "### \"Endorsements\" group has solved maximum problems\n",
    "sns.countplot(x = \"Group\" ,data = new_df, hue =\"Status\" )"
   ]
  },
  {
   "cell_type": "code",
   "execution_count": 38,
   "metadata": {},
   "outputs": [
    {
     "data": {
      "text/plain": [
       "<Axes: xlabel='Group', ylabel='count'>"
      ]
     },
     "execution_count": 38,
     "metadata": {},
     "output_type": "execute_result"
    },
    {
     "data": {
      "image/png": "[encoded data removed]",
      "text/plain": [
       "<Figure size 640x480 with 1 Axes>"
      ]
     },
     "metadata": {},
     "output_type": "display_data"
    }
   ],
   "source": [
    "\n",
    "### All the problem solved via mail by these different groups has been categorised at low \"priority\" level\n",
    "sns.countplot(x = \"Group\" ,data = new_df, hue =\"Priority\" )"
   ]
  },
  {
   "cell_type": "code",
   "execution_count": 39,
   "metadata": {},
   "outputs": [
    {
     "data": {
      "image/png": "[encoded data removed]",
      "text/plain": [
       "<Figure size 640x480 with 1 Axes>"
      ]
     },
     "metadata": {},
     "output_type": "display_data"
    }
   ],
   "source": [
    "### \"Endorsements\" group is doing great job as they are keeping the issue in hold for mimimum amount of time  and solving then as soon as possible\n",
    "mean_values = new_df.groupby('Group')['hours_group_hold_the_issue'].mean().plot.bar()"
   ]
  },
  {
   "cell_type": "code",
   "execution_count": 40,
   "metadata": {},
   "outputs": [
    {
     "data": {
      "image/png": "[encoded data removed]",
      "text/plain": [
       "<Figure size 640x480 with 1 Axes>"
      ]
     },
     "metadata": {},
     "output_type": "display_data"
    }
   ],
   "source": [
    "### \"HR Queries\" group is doing great job as they are keeping the issue in hold for mimimum amount of time  and solving then as soon as possible\n",
    "mean_values = new_df.groupby('type_of_ticket')['hours_group_hold_the_issue'].mean().plot.bar()"
   ]
  },
  {
   "cell_type": "code",
   "execution_count": 41,
   "metadata": {},
   "outputs": [
    {
     "data": {
      "image/png": "[encoded data removed]",
      "text/plain": [
       "<Figure size 640x480 with 1 Axes>"
      ]
     },
     "metadata": {},
     "output_type": "display_data"
    }
   ],
   "source": [
    "### “Waiting time” for customer is minimum for Network or Blacklisted Hospitals and maximum for Health ID department\n",
    "mean_values = new_df.groupby('type_of_ticket')['Requester_wait_time_in_business_hours'].mean().plot.bar()"
   ]
  },
  {
   "cell_type": "code",
   "execution_count": 42,
   "metadata": {},
   "outputs": [
    {
     "data": {
      "image/png": "[encoded data removed]",
      "text/plain": [
       "<Figure size 640x480 with 1 Axes>"
      ]
     },
     "metadata": {},
     "output_type": "display_data"
    }
   ],
   "source": [
    "### Waiting time” for customer is minimum for support team and maximum for Reimbursement Claims group.\n",
    "mean_values = new_df.groupby('Group')['Requester_wait_time_in_business_hours'].mean().astype(int).plot.bar()"
   ]
  },
  {
   "cell_type": "code",
   "execution_count": null,
   "metadata": {},
   "outputs": [],
   "source": []
  }
 ],
 "metadata": {
  "kernelspec": {
   "display_name": "Python 3",
   "language": "python",
   "name": "python3"
  },
  "language_info": {
   "codemirror_mode": {
    "name": "ipython",
    "version": 3
   },
   "file_extension": ".py",
   "mimetype": "text/x-python",
   "name": "python",
   "nbconvert_exporter": "python",
   "pygments_lexer": "ipython3",
   "version": "3.11.2"
  },
  "orig_nbformat": 4
 },
 "nbformat": 4,
 "nbformat_minor": 2
}
